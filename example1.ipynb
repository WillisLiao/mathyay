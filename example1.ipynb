{
 "cells": [
  {
   "cell_type": "code",
   "execution_count": 1,
   "metadata": {},
   "outputs": [
    {
     "data": {
      "text/plain": [
       "array([[ 4,  2],\n",
       "       [-5, -3]])"
      ]
     },
     "execution_count": 1,
     "metadata": {},
     "output_type": "execute_result"
    }
   ],
   "source": [
    "import numpy as np\n",
    "A = np.array([[4, 2], [-5, -3]])\n",
    "A"
   ]
  },
  {
   "cell_type": "code",
   "execution_count": 2,
   "metadata": {},
   "outputs": [
    {
     "name": "stdout",
     "output_type": "stream",
     "text": [
      "[ 2. -1.]\n",
      "[[ 0.70710678 -0.37139068]\n",
      " [-0.70710678  0.92847669]]\n",
      "[[2.3570226  0.94280904]\n",
      " [1.79505494 1.79505494]]\n"
     ]
    }
   ],
   "source": [
    "lambdas, V = np.linalg.eig(A)\n",
    "V_inv = np.linalg.inv(V)\n",
    "print(lambdas)\n",
    "print(V)\n",
    "print(V_inv)"
   ]
  },
  {
   "cell_type": "code",
   "execution_count": 3,
   "metadata": {},
   "outputs": [
    {
     "data": {
      "text/plain": [
       "array([[ 2.00000000e+00,  2.22044605e-16],\n",
       "       [-6.66133815e-16, -1.00000000e+00]])"
      ]
     },
     "execution_count": 3,
     "metadata": {},
     "output_type": "execute_result"
    }
   ],
   "source": [
    "Lambda = np.dot(np.dot(V_inv, A), V)\n",
    "Lambda"
   ]
  },
  {
   "cell_type": "code",
   "execution_count": 4,
   "metadata": {},
   "outputs": [
    {
     "data": {
      "text/plain": [
       "array([[ 6,  2],\n",
       "       [-5, -1]])"
      ]
     },
     "execution_count": 4,
     "metadata": {},
     "output_type": "execute_result"
    }
   ],
   "source": [
    "A2 = np.dot(A, A)\n",
    "A2"
   ]
  },
  {
   "cell_type": "code",
   "execution_count": 5,
   "metadata": {},
   "outputs": [
    {
     "data": {
      "text/plain": [
       "array([[ 6.,  2.],\n",
       "       [-5., -1.]])"
      ]
     },
     "execution_count": 5,
     "metadata": {},
     "output_type": "execute_result"
    }
   ],
   "source": [
    "A2_1 = np.dot(np.dot(V, Lambda ** 2), V_inv)\n",
    "A2_1"
   ]
  },
  {
   "cell_type": "code",
   "execution_count": 6,
   "metadata": {},
   "outputs": [
    {
     "data": {
      "text/plain": [
       "array([[ 54.,  22.],\n",
       "       [-55., -23.]])"
      ]
     },
     "execution_count": 6,
     "metadata": {},
     "output_type": "execute_result"
    }
   ],
   "source": [
    "A2_2 = np.dot(np.dot(V, Lambda ** 5), V_inv)\n",
    "A2_2"
   ]
  },
  {
   "cell_type": "code",
   "execution_count": 7,
   "metadata": {},
   "outputs": [
    {
     "data": {
      "text/plain": [
       "array([[ 1,  2,  4],\n",
       "       [ 2, -1,  3],\n",
       "       [ 0,  5,  1]])"
      ]
     },
     "execution_count": 7,
     "metadata": {},
     "output_type": "execute_result"
    }
   ],
   "source": [
    "import numpy as np \n",
    "import torch\n",
    "import matplotlib.pyplot as plt\n",
    "B = np.array([[1, 2, 4], [2, -1, 3], [0, 5, 1]])\n",
    "B"
   ]
  },
  {
   "cell_type": "code",
   "execution_count": 8,
   "metadata": {},
   "outputs": [
    {
     "name": "stdout",
     "output_type": "stream",
     "text": [
      "[-3.25599251 -1.13863631  5.39462882]\n",
      "[[-0.38021672  0.80395279  0.7014215 ]\n",
      " [-0.59949826  0.23387109  0.47053617]\n",
      " [ 0.704299   -0.5467762   0.53535371]]\n",
      "[[ 0.77517847 -1.64957687  0.43421523]\n",
      " [ 1.32210573 -1.41375166 -0.48964283]\n",
      " [ 0.33050771  0.72622936  0.79659036]]\n"
     ]
    }
   ],
   "source": [
    "Blambdas, BV = np.linalg.eig(B)\n",
    "BV_inv = np.linalg.inv(BV)\n",
    "print(Blambdas)\n",
    "print(BV)\n",
    "print(BV_inv)"
   ]
  },
  {
   "cell_type": "code",
   "execution_count": 9,
   "metadata": {},
   "outputs": [
    {
     "data": {
      "text/plain": [
       "array([[-3.25599251e+00,  2.77555756e-15,  9.99200722e-16],\n",
       "       [-6.66133815e-16, -1.13863631e+00,  1.83186799e-15],\n",
       "       [-8.88178420e-16, -1.33226763e-15,  5.39462882e+00]])"
      ]
     },
     "execution_count": 9,
     "metadata": {},
     "output_type": "execute_result"
    }
   ],
   "source": [
    "BLambda = np.dot(np.dot(BV_inv, B), BV)\n",
    "BLambda"
   ]
  },
  {
   "cell_type": "code",
   "execution_count": 10,
   "metadata": {},
   "outputs": [
    {
     "data": {
      "text/plain": [
       "array([[ 5, 20, 14],\n",
       "       [ 0, 20,  8],\n",
       "       [10,  0, 16]])"
      ]
     },
     "execution_count": 10,
     "metadata": {},
     "output_type": "execute_result"
    }
   ],
   "source": [
    "B2 = np.dot(B, B)\n",
    "B2"
   ]
  },
  {
   "cell_type": "code",
   "execution_count": 11,
   "metadata": {},
   "outputs": [
    {
     "data": {
      "text/plain": [
       "array([[ 5.00000000e+00,  2.00000000e+01,  1.40000000e+01],\n",
       "       [-7.10542736e-15,  2.00000000e+01,  8.00000000e+00],\n",
       "       [ 1.00000000e+01, -8.88178420e-15,  1.60000000e+01]])"
      ]
     },
     "execution_count": 11,
     "metadata": {},
     "output_type": "execute_result"
    }
   ],
   "source": [
    "B2_1 = np.dot(np.dot(BV, BLambda ** 2), BV_inv)\n",
    "B2_1"
   ]
  },
  {
   "cell_type": "code",
   "execution_count": 12,
   "metadata": {},
   "outputs": [
    {
     "data": {
      "text/plain": [
       "array([[1165., 2100., 2614.],\n",
       "       [ 880., 1200., 1808.],\n",
       "       [ 610., 2200., 1836.]])"
      ]
     },
     "execution_count": 12,
     "metadata": {},
     "output_type": "execute_result"
    }
   ],
   "source": [
    "B2_2 = np.dot(np.dot(BV, BLambda ** 5), BV_inv)\n",
    "B2_2"
   ]
  }
 ],
 "metadata": {
  "interpreter": {
   "hash": "6a13449f347f4fcfad9466f01174e485f20d8992999a0c2061558250e1d689d7"
  },
  "kernelspec": {
   "display_name": "Python 3.8.8 ('base')",
   "language": "python",
   "name": "python3"
  },
  "language_info": {
   "codemirror_mode": {
    "name": "ipython",
    "version": 3
   },
   "file_extension": ".py",
   "mimetype": "text/x-python",
   "name": "python",
   "nbconvert_exporter": "python",
   "pygments_lexer": "ipython3",
   "version": "3.8.8"
  },
  "orig_nbformat": 4
 },
 "nbformat": 4,
 "nbformat_minor": 2
}
